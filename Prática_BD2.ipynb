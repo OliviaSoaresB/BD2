{
  "nbformat": 4,
  "nbformat_minor": 0,
  "metadata": {
    "colab": {
      "provenance": [],
      "collapsed_sections": [
        "fPV8pg5Rtm6B",
        "Jie1JySMo6FC",
        "zhF_MP6vpFVh",
        "6acbLbQuq5xq",
        "4-S2Jc-frsBM",
        "9qCzxRm4sJHO",
        "PtyED4fpsvIt",
        "rKvP6lUAtJRt"
      ],
      "authorship_tag": "ABX9TyMZ9VaMLgT/NnqpAiYWYzT3",
      "include_colab_link": true
    },
    "kernelspec": {
      "name": "python3",
      "display_name": "Python 3"
    },
    "language_info": {
      "name": "python"
    }
  },
  "cells": [
    {
      "cell_type": "markdown",
      "metadata": {
        "id": "view-in-github",
        "colab_type": "text"
      },
      "source": [
        "<a href=\"https://colab.research.google.com/github/OliviaSoaresB/BD2/blob/main/Pr%C3%A1tica_BD2.ipynb\" target=\"_parent\"><img src=\"https://colab.research.google.com/assets/colab-badge.svg\" alt=\"Open In Colab\"/></a>"
      ]
    },
    {
      "cell_type": "markdown",
      "source": [
        "#**PRÁTICA BD2**"
      ],
      "metadata": {
        "id": "fPV8pg5Rtm6B"
      }
    },
    {
      "cell_type": "code",
      "source": [
        "connection = sqlite3.connect(\"financas.sqlite\")\n",
        "\n",
        "query = \"\"\"\n",
        "create table usuario(\n",
        "\tid_usuario integer primary key autoincrement,\n",
        "  nome varchar(100),\n",
        "  email varchar(100),\n",
        "  celular char(15),\n",
        "  senha varchar(100)\n",
        ");\n",
        "\"\"\"\n",
        "execute_query(connection, query)\n",
        "\n",
        "query = \"\"\"\n",
        "create table card(\n",
        "\tid_card integer primary key autoincrement,\n",
        "  descricao text,\n",
        "  resumo varchar (140),\n",
        "  titulo varchar(100)\n",
        ");\n",
        "\"\"\"\n",
        "execute_query(connection, query)\n",
        "\n",
        "query = \"\"\"\n",
        "create table avaliacao(\n",
        "\tid_avaliacao integer primary key autoincrement,\n",
        "  nota float,\n",
        "  comentario varchar(140),\n",
        "  dataAvaliacao date\n",
        ");\n",
        "\"\"\"\n",
        "execute_query(connection, query)\n",
        "\n",
        "query = \"\"\"\n",
        "create table vocabulario(\n",
        "\tid_vocabulario integer primary key autoincrement,\n",
        "  tituloVocabulario varchar(140)\n",
        ");\n",
        "\"\"\"\n",
        "execute_query(connection, query)\n",
        "\n",
        "# -- Relacionamento\n",
        "query = \"\"\"\n",
        "create table avaliar (\n",
        "    id_usuario integer,\n",
        "    id_avaliacao integer,\n",
        "    primary key (id_usuario, id_avaliacao),\n",
        "    foreign key (id_usuario) references Usuario(id_usuario),\n",
        "    foreign key (id_avaliacao) references Avaliacao(id_avaliacao)\n",
        ");\n",
        "\"\"\"\n",
        "execute_query(connection, query)\n",
        "\n",
        "query = \"\"\"\n",
        "create table visualizar (\n",
        "    id_usuario integer,\n",
        "    id_vocabulario integer,\n",
        "    primary key (id_usuario, id_vocabulario),\n",
        "    foreign key (id_usuario) references Usuario(id_usuario),\n",
        "    foreign key (id_vocabulario) references Vocabulario(id_vocabulario)\n",
        ");\n",
        "\"\"\"\n",
        "execute_query(connection, query)\n",
        "\n",
        "query = \"\"\"\n",
        "create table favoritar (\n",
        "    id_usuario integer,\n",
        "    id_card integer,\n",
        "    primary key (id_usuario, id_card),\n",
        "    foreign key (id_usuario) references Usuario(id_usuario),\n",
        "    foreign key (id_card) references Card(id_card)\n",
        ");\n",
        "\"\"\"\n",
        "execute_query(connection, query)"
      ],
      "metadata": {
        "colab": {
          "base_uri": "https://localhost:8080/"
        },
        "id": "96Wa_TtPseGK",
        "outputId": "777d6584-b980-483a-edb2-0619eb466e00"
      },
      "execution_count": null,
      "outputs": [
        {
          "output_type": "stream",
          "name": "stdout",
          "text": [
            "Query create table usuario executada.\n",
            "Query create table card executada.\n",
            "Query create table avaliacao executada.\n",
            "Query create table vocabulario executada.\n",
            "Query create table avaliar executada.\n",
            "Query create table visualizar executada.\n",
            "Query create table favoritar executada.\n"
          ]
        }
      ]
    },
    {
      "cell_type": "markdown",
      "source": [
        "# **Atividade 01**\n",
        "\n",
        "**Consulta 1**\n",
        "\n",
        "**Objetivo da consulta:** Identificar quais cards são mais populares, verificando quantos usuários favoritaram cada um. Essa funcionalidade pode ser usada no back-end para montar uma área de “cards em destaque” dentro da aplicação.\n",
        "\n",
        "A consulta retorna o título de cada card junto com a quantidade de vezes em que ele foi favoritado, em ordem decrescente. O sistema poderá exibir os cards mais relevantes para os usuários, incentivando o engajamento."
      ],
      "metadata": {
        "id": "Jie1JySMo6FC"
      }
    },
    {
      "cell_type": "code",
      "source": [
        "SELECT c.titulo, COUNT(f.id_usuario) AS qtd_favoritos\n",
        "FROM card c\n",
        "LEFT JOIN favoritar f ON c.id_card = f.id_card\n",
        "GROUP BY c.id_card, c.titulo\n",
        "ORDER BY qtd_favoritos DESC;\n"
      ],
      "metadata": {
        "id": "Tl87m6FwpB-o"
      },
      "execution_count": null,
      "outputs": []
    },
    {
      "cell_type": "markdown",
      "source": [
        "**Consulta 2**\n",
        "\n",
        "**Objetivo da consulta:** Calcular a média das avaliações atribuídas por cada usuário, para entender o comportamento de avaliação dentro do sistema. Essa informação pode ser usada para relatórios ou até para personalizar recomendações de conteúdo.\n",
        "\n",
        "A consulta retorna o nome de cada usuário junto da média de todas as notas que ele atribuiu. Assim, é possível visualizar quais usuários costumam avaliar melhor ou pior os conteúdos, permitindo análises no back-end sobre engajamento e perfil de avaliador."
      ],
      "metadata": {
        "id": "zhF_MP6vpFVh"
      }
    },
    {
      "cell_type": "code",
      "source": [
        "SELECT u.nome, AVG(a.nota) AS media_avaliacoes\n",
        "FROM usuario u\n",
        "JOIN avaliar av ON u.id_usuario = av.id_usuario\n",
        "JOIN avaliacao a ON av.id_avaliacao = a.id_avaliacao\n",
        "GROUP BY u.id_usuario, u.nome\n",
        "ORDER BY media_avaliacoes DESC;\n"
      ],
      "metadata": {
        "id": "cSiJMDnDpKnR"
      },
      "execution_count": null,
      "outputs": []
    },
    {
      "cell_type": "markdown",
      "source": [],
      "metadata": {
        "id": "RQAGQNdWpORP"
      }
    },
    {
      "cell_type": "markdown",
      "source": [
        "# **Atividade 02**\n",
        "\n",
        "**Consulta com 3 Entidades**\n",
        "\n",
        "Exibir quais usuários avaliaram conteúdos e, ao mesmo tempo, quais cards eles favoritaram. Essa consulta pode ser usada para gerar relatórios de engajamento e analisar se existe relação entre usuários que avaliam e os que também favoritam cards.\n",
        "\n",
        "A consulta retorna o nome do usuário, o título do card que ele favoritou, além da nota e do comentário da avaliação que ele fez. Assim, o sistema pode identificar padrões de uso, como usuários mais ativos ou cards mais bem avaliados e ao mesmo tempo favoritados.\n",
        "\n",
        "\n",
        "\n"
      ],
      "metadata": {
        "id": "6acbLbQuq5xq"
      }
    },
    {
      "cell_type": "code",
      "source": [
        "SELECT u.nome, c.titulo, a.nota, a.comentario\n",
        "FROM usuario u\n",
        "JOIN avaliar av ON u.id_usuario = av.id_usuario\n",
        "JOIN avaliacao a ON av.id_avaliacao = a.id_avaliacao\n",
        "JOIN favoritar f ON u.id_usuario = f.id_usuario\n",
        "JOIN card c ON f.id_card = c.id_card;"
      ],
      "metadata": {
        "id": "rYrSdmHsvBvB"
      },
      "execution_count": null,
      "outputs": []
    },
    {
      "cell_type": "markdown",
      "source": [
        "#**Atividade 03**\n",
        "\n",
        "\n",
        "Na aplicação de PI3, é importante exibir frequentemente os cards mais populares, ou seja, aqueles mais favoritados pelos usuários. Como essa consulta será realizada diversas vezes (por exemplo, para exibir em uma página inicial ou em relatórios de engajamento), faz sentido criar uma view que já traga essa informação pronta, evitando reescrever a mesma query repetidamente no back-end.\n",
        "\n",
        "Descrição da ação esperada ao rodar a consulta:\n",
        "Ao consultar a view vw_cards_populares, o sistema retorna uma lista de cards acompanhados da quantidade de vezes em que foram favoritados, em ordem decrescente. Dessa forma, o sistema pode exibir de forma simples os conteúdos mais relevantes sem precisar rodar novamente a query completa.\n",
        "\n"
      ],
      "metadata": {
        "id": "4-S2Jc-frsBM"
      }
    },
    {
      "cell_type": "code",
      "source": [
        "CREATE VIEW vw_cards_populares AS\n",
        "SELECT c.titulo, COUNT(f.id_usuario) AS qtd_favoritos\n",
        "FROM card c\n",
        "LEFT JOIN favoritar f ON c.id_card = f.id_card\n",
        "GROUP BY c.id_card, c.titulo\n",
        "ORDER BY qtd_favoritos DESC;\n"
      ],
      "metadata": {
        "id": "scEBvRrOq7ip"
      },
      "execution_count": null,
      "outputs": []
    },
    {
      "cell_type": "markdown",
      "source": [],
      "metadata": {
        "id": "NxbvnIgSrlYI"
      }
    },
    {
      "cell_type": "markdown",
      "source": [
        "#**Atividade 04**\n",
        "\n",
        "\n",
        "A inserção de avaliações é uma ação recorrente no PI3, já que vários usuários poderão avaliar conteúdos constantemente. Como envolve duas operações encadeadas (inserir na tabela avaliacao e também registrar o relacionamento em avaliar), é melhor encapsular essa lógica em um procedure, garantindo que não haja inconsistência nos dados e simplificando o código do back-end.\n",
        "\n",
        "Ao chamar a procedure inserir_avaliacao, o sistema insere automaticamente uma nova avaliação com a nota, comentário e data fornecidos, e já cria o vínculo entre o usuário e essa avaliação. Assim, o processo de adicionar avaliações se torna mais rápido, seguro e reutilizável.\n"
      ],
      "metadata": {
        "id": "9qCzxRm4sJHO"
      }
    },
    {
      "cell_type": "code",
      "source": [
        "CREATE PROCEDURE inserir_avaliacao (\n",
        "    IN p_id_usuario INT,\n",
        "    IN p_nota FLOAT,\n",
        "    IN p_comentario VARCHAR(140),\n",
        "    IN p_data DATE\n",
        ")\n",
        "BEGIN\n",
        "    INSERT INTO avaliacao (nota, comentario, dataAvaliacao)\n",
        "    VALUES (p_nota, p_comentario, p_data);\n",
        "\n",
        "    INSERT INTO avaliar (id_usuario, id_avaliacao)\n",
        "    VALUES (p_id_usuario, LAST_INSERT_ID());\n",
        "END;"
      ],
      "metadata": {
        "id": "h-9h65nPsJHQ"
      },
      "execution_count": null,
      "outputs": []
    },
    {
      "cell_type": "markdown",
      "source": [],
      "metadata": {
        "id": "ikHozB6bsJHQ"
      }
    },
    {
      "cell_type": "markdown",
      "source": [
        "#**Atividade 05**\n",
        "\n",
        "\n",
        "Calcular a média de avaliações de cada usuário é uma operação recorrente na aplicação, por exemplo para gerar relatórios, personalizar recomendações ou exibir o perfil de engajamento do usuário. Encapsular essa lógica em uma function evita reescrever a mesma query várias vezes no back-end e permite que o cálculo seja chamado de forma simples dentro de outras consultas SQL.\n",
        "\n",
        "A função media_avaliacoes_usuario recebe como parâmetro o id_usuario e retorna a média das notas dadas por esse usuário. Assim, ao executar SELECT media_avaliacoes_usuario(1);, por exemplo, o sistema retorna a média das avaliações feitas pelo usuário de ID 1."
      ],
      "metadata": {
        "id": "PtyED4fpsvIt"
      }
    },
    {
      "cell_type": "code",
      "source": [
        "CREATE FUNCTION media_avaliacoes_usuario (p_id_usuario INT)\n",
        "RETURNS FLOAT\n",
        "DETERMINISTIC\n",
        "BEGIN\n",
        "    DECLARE v_media FLOAT;\n",
        "\n",
        "    SELECT AVG(a.nota)\n",
        "    INTO v_media\n",
        "    FROM avaliacao a\n",
        "    JOIN avaliar av ON a.id_avaliacao = av.id_avaliacao\n",
        "    WHERE av.id_usuario = p_id_usuario;\n",
        "\n",
        "    RETURN v_media;\n",
        "END;"
      ],
      "metadata": {
        "id": "su3J-NECsvIw"
      },
      "execution_count": null,
      "outputs": []
    },
    {
      "cell_type": "markdown",
      "source": [],
      "metadata": {
        "id": "k1DuapsPsvIx"
      }
    },
    {
      "cell_type": "markdown",
      "source": [
        "#**Atividade 06**\n",
        "\n",
        "No PI3, os usuários irão registrar avaliações com frequência. Muitas vezes, a data da avaliação pode não ser informada no momento da inserção. Para evitar erros ou registros incompletos, o trigger garante que sempre exista uma data associada à avaliação, mantendo a integridade e consistência dos dados sem depender do back-end para validar isso.\n",
        "\n",
        "O trigger trg_data_avaliacao é disparado antes de uma inserção na tabela avaliacao. Se a coluna dataAvaliacao não tiver valor informado, o trigger insere automaticamente a data atual. Assim, cada avaliação terá sempre a informação correta de quando foi registrada.\n"
      ],
      "metadata": {
        "id": "rKvP6lUAtJRt"
      }
    },
    {
      "cell_type": "code",
      "source": [
        "CREATE TRIGGER trg_data_avaliacao\n",
        "BEFORE INSERT ON avaliacao\n",
        "FOR EACH ROW\n",
        "BEGIN\n",
        "    IF NEW.dataAvaliacao IS NULL THEN\n",
        "        SET NEW.dataAvaliacao = CURRENT_DATE();\n",
        "    END IF;\n",
        "END;\n"
      ],
      "metadata": {
        "id": "avxWtjb5tJRu"
      },
      "execution_count": null,
      "outputs": []
    },
    {
      "cell_type": "markdown",
      "source": [],
      "metadata": {
        "id": "wJzY2-OKtJRu"
      }
    },
    {
      "cell_type": "markdown",
      "source": [],
      "metadata": {
        "id": "GdQ2gWD0tflp"
      }
    }
  ]
}